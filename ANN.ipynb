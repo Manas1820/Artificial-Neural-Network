{
 "cells": [
  {
   "cell_type": "code",
   "execution_count": 18,
   "metadata": {},
   "outputs": [],
   "source": [
    "import pandas as pd\n",
    "import matplotlib.pyplot as plt\n",
    "import numpy as np"
   ]
  },
  {
   "cell_type": "code",
   "execution_count": 19,
   "metadata": {},
   "outputs": [
    {
     "data": {
      "text/html": [
       "<div>\n",
       "<style scoped>\n",
       "    .dataframe tbody tr th:only-of-type {\n",
       "        vertical-align: middle;\n",
       "    }\n",
       "\n",
       "    .dataframe tbody tr th {\n",
       "        vertical-align: top;\n",
       "    }\n",
       "\n",
       "    .dataframe thead th {\n",
       "        text-align: right;\n",
       "    }\n",
       "</style>\n",
       "<table border=\"1\" class=\"dataframe\">\n",
       "  <thead>\n",
       "    <tr style=\"text-align: right;\">\n",
       "      <th></th>\n",
       "      <th>RowNumber</th>\n",
       "      <th>CustomerId</th>\n",
       "      <th>Surname</th>\n",
       "      <th>CreditScore</th>\n",
       "      <th>Geography</th>\n",
       "      <th>Gender</th>\n",
       "      <th>Age</th>\n",
       "      <th>Tenure</th>\n",
       "      <th>Balance</th>\n",
       "      <th>NumOfProducts</th>\n",
       "      <th>HasCrCard</th>\n",
       "      <th>IsActiveMember</th>\n",
       "      <th>EstimatedSalary</th>\n",
       "      <th>Exited</th>\n",
       "    </tr>\n",
       "  </thead>\n",
       "  <tbody>\n",
       "    <tr>\n",
       "      <th>0</th>\n",
       "      <td>1</td>\n",
       "      <td>15634602</td>\n",
       "      <td>Hargrave</td>\n",
       "      <td>619</td>\n",
       "      <td>France</td>\n",
       "      <td>Female</td>\n",
       "      <td>42</td>\n",
       "      <td>2</td>\n",
       "      <td>0.00</td>\n",
       "      <td>1</td>\n",
       "      <td>1</td>\n",
       "      <td>1</td>\n",
       "      <td>101348.88</td>\n",
       "      <td>1</td>\n",
       "    </tr>\n",
       "    <tr>\n",
       "      <th>1</th>\n",
       "      <td>2</td>\n",
       "      <td>15647311</td>\n",
       "      <td>Hill</td>\n",
       "      <td>608</td>\n",
       "      <td>Spain</td>\n",
       "      <td>Female</td>\n",
       "      <td>41</td>\n",
       "      <td>1</td>\n",
       "      <td>83807.86</td>\n",
       "      <td>1</td>\n",
       "      <td>0</td>\n",
       "      <td>1</td>\n",
       "      <td>112542.58</td>\n",
       "      <td>0</td>\n",
       "    </tr>\n",
       "    <tr>\n",
       "      <th>2</th>\n",
       "      <td>3</td>\n",
       "      <td>15619304</td>\n",
       "      <td>Onio</td>\n",
       "      <td>502</td>\n",
       "      <td>France</td>\n",
       "      <td>Female</td>\n",
       "      <td>42</td>\n",
       "      <td>8</td>\n",
       "      <td>159660.80</td>\n",
       "      <td>3</td>\n",
       "      <td>1</td>\n",
       "      <td>0</td>\n",
       "      <td>113931.57</td>\n",
       "      <td>1</td>\n",
       "    </tr>\n",
       "    <tr>\n",
       "      <th>3</th>\n",
       "      <td>4</td>\n",
       "      <td>15701354</td>\n",
       "      <td>Boni</td>\n",
       "      <td>699</td>\n",
       "      <td>France</td>\n",
       "      <td>Female</td>\n",
       "      <td>39</td>\n",
       "      <td>1</td>\n",
       "      <td>0.00</td>\n",
       "      <td>2</td>\n",
       "      <td>0</td>\n",
       "      <td>0</td>\n",
       "      <td>93826.63</td>\n",
       "      <td>0</td>\n",
       "    </tr>\n",
       "    <tr>\n",
       "      <th>4</th>\n",
       "      <td>5</td>\n",
       "      <td>15737888</td>\n",
       "      <td>Mitchell</td>\n",
       "      <td>850</td>\n",
       "      <td>Spain</td>\n",
       "      <td>Female</td>\n",
       "      <td>43</td>\n",
       "      <td>2</td>\n",
       "      <td>125510.82</td>\n",
       "      <td>1</td>\n",
       "      <td>1</td>\n",
       "      <td>1</td>\n",
       "      <td>79084.10</td>\n",
       "      <td>0</td>\n",
       "    </tr>\n",
       "    <tr>\n",
       "      <th>5</th>\n",
       "      <td>6</td>\n",
       "      <td>15574012</td>\n",
       "      <td>Chu</td>\n",
       "      <td>645</td>\n",
       "      <td>Spain</td>\n",
       "      <td>Male</td>\n",
       "      <td>44</td>\n",
       "      <td>8</td>\n",
       "      <td>113755.78</td>\n",
       "      <td>2</td>\n",
       "      <td>1</td>\n",
       "      <td>0</td>\n",
       "      <td>149756.71</td>\n",
       "      <td>1</td>\n",
       "    </tr>\n",
       "    <tr>\n",
       "      <th>6</th>\n",
       "      <td>7</td>\n",
       "      <td>15592531</td>\n",
       "      <td>Bartlett</td>\n",
       "      <td>822</td>\n",
       "      <td>France</td>\n",
       "      <td>Male</td>\n",
       "      <td>50</td>\n",
       "      <td>7</td>\n",
       "      <td>0.00</td>\n",
       "      <td>2</td>\n",
       "      <td>1</td>\n",
       "      <td>1</td>\n",
       "      <td>10062.80</td>\n",
       "      <td>0</td>\n",
       "    </tr>\n",
       "    <tr>\n",
       "      <th>7</th>\n",
       "      <td>8</td>\n",
       "      <td>15656148</td>\n",
       "      <td>Obinna</td>\n",
       "      <td>376</td>\n",
       "      <td>Germany</td>\n",
       "      <td>Female</td>\n",
       "      <td>29</td>\n",
       "      <td>4</td>\n",
       "      <td>115046.74</td>\n",
       "      <td>4</td>\n",
       "      <td>1</td>\n",
       "      <td>0</td>\n",
       "      <td>119346.88</td>\n",
       "      <td>1</td>\n",
       "    </tr>\n",
       "    <tr>\n",
       "      <th>8</th>\n",
       "      <td>9</td>\n",
       "      <td>15792365</td>\n",
       "      <td>He</td>\n",
       "      <td>501</td>\n",
       "      <td>France</td>\n",
       "      <td>Male</td>\n",
       "      <td>44</td>\n",
       "      <td>4</td>\n",
       "      <td>142051.07</td>\n",
       "      <td>2</td>\n",
       "      <td>0</td>\n",
       "      <td>1</td>\n",
       "      <td>74940.50</td>\n",
       "      <td>0</td>\n",
       "    </tr>\n",
       "    <tr>\n",
       "      <th>9</th>\n",
       "      <td>10</td>\n",
       "      <td>15592389</td>\n",
       "      <td>H?</td>\n",
       "      <td>684</td>\n",
       "      <td>France</td>\n",
       "      <td>Male</td>\n",
       "      <td>27</td>\n",
       "      <td>2</td>\n",
       "      <td>134603.88</td>\n",
       "      <td>1</td>\n",
       "      <td>1</td>\n",
       "      <td>1</td>\n",
       "      <td>71725.73</td>\n",
       "      <td>0</td>\n",
       "    </tr>\n",
       "  </tbody>\n",
       "</table>\n",
       "</div>"
      ],
      "text/plain": [
       "   RowNumber  CustomerId   Surname  CreditScore Geography  Gender  Age  \\\n",
       "0          1    15634602  Hargrave          619    France  Female   42   \n",
       "1          2    15647311      Hill          608     Spain  Female   41   \n",
       "2          3    15619304      Onio          502    France  Female   42   \n",
       "3          4    15701354      Boni          699    France  Female   39   \n",
       "4          5    15737888  Mitchell          850     Spain  Female   43   \n",
       "5          6    15574012       Chu          645     Spain    Male   44   \n",
       "6          7    15592531  Bartlett          822    France    Male   50   \n",
       "7          8    15656148    Obinna          376   Germany  Female   29   \n",
       "8          9    15792365        He          501    France    Male   44   \n",
       "9         10    15592389        H?          684    France    Male   27   \n",
       "\n",
       "   Tenure    Balance  NumOfProducts  HasCrCard  IsActiveMember  \\\n",
       "0       2       0.00              1          1               1   \n",
       "1       1   83807.86              1          0               1   \n",
       "2       8  159660.80              3          1               0   \n",
       "3       1       0.00              2          0               0   \n",
       "4       2  125510.82              1          1               1   \n",
       "5       8  113755.78              2          1               0   \n",
       "6       7       0.00              2          1               1   \n",
       "7       4  115046.74              4          1               0   \n",
       "8       4  142051.07              2          0               1   \n",
       "9       2  134603.88              1          1               1   \n",
       "\n",
       "   EstimatedSalary  Exited  \n",
       "0        101348.88       1  \n",
       "1        112542.58       0  \n",
       "2        113931.57       1  \n",
       "3         93826.63       0  \n",
       "4         79084.10       0  \n",
       "5        149756.71       1  \n",
       "6         10062.80       0  \n",
       "7        119346.88       1  \n",
       "8         74940.50       0  \n",
       "9         71725.73       0  "
      ]
     },
     "execution_count": 19,
     "metadata": {},
     "output_type": "execute_result"
    }
   ],
   "source": [
    "df=pd.read_csv(\"Churn_Modelling.csv\")\n",
    "df.head(10)"
   ]
  },
  {
   "cell_type": "code",
   "execution_count": 20,
   "metadata": {},
   "outputs": [
    {
     "data": {
      "text/plain": [
       "array([1, 0, 1, ..., 1, 1, 0], dtype=int64)"
      ]
     },
     "execution_count": 20,
     "metadata": {},
     "output_type": "execute_result"
    }
   ],
   "source": [
    "y=df.iloc[:,13].values\n",
    "y"
   ]
  },
  {
   "cell_type": "code",
   "execution_count": 21,
   "metadata": {},
   "outputs": [
    {
     "data": {
      "text/plain": [
       "array([[619, 'France', 'Female', ..., 1, 1, 101348.88],\n",
       "       [608, 'Spain', 'Female', ..., 0, 1, 112542.58],\n",
       "       [502, 'France', 'Female', ..., 1, 0, 113931.57],\n",
       "       ...,\n",
       "       [709, 'France', 'Female', ..., 0, 1, 42085.58],\n",
       "       [772, 'Germany', 'Male', ..., 1, 0, 92888.52],\n",
       "       [792, 'France', 'Female', ..., 1, 0, 38190.78]], dtype=object)"
      ]
     },
     "execution_count": 21,
     "metadata": {},
     "output_type": "execute_result"
    }
   ],
   "source": [
    "X=df.iloc[:,3:13].values\n",
    "X"
   ]
  },
  {
   "cell_type": "code",
   "execution_count": 22,
   "metadata": {},
   "outputs": [
    {
     "data": {
      "text/plain": [
       "array([[619, 'France', 0, ..., 1, 1, 101348.88],\n",
       "       [608, 'Spain', 0, ..., 0, 1, 112542.58],\n",
       "       [502, 'France', 0, ..., 1, 0, 113931.57],\n",
       "       ...,\n",
       "       [709, 'France', 0, ..., 0, 1, 42085.58],\n",
       "       [772, 'Germany', 1, ..., 1, 0, 92888.52],\n",
       "       [792, 'France', 0, ..., 1, 0, 38190.78]], dtype=object)"
      ]
     },
     "execution_count": 22,
     "metadata": {},
     "output_type": "execute_result"
    }
   ],
   "source": [
    "from sklearn.preprocessing import LabelEncoder, OneHotEncoder\n",
    "from sklearn.compose import ColumnTransformer\n",
    "\n",
    "# o for female and 1 for male\n",
    "labelencoder_X_2 = LabelEncoder()\n",
    "X[:,2] = labelencoder_X_2 .fit_transform(X[:,2])\n",
    "X\n",
    "\n"
   ]
  },
  {
   "cell_type": "code",
   "execution_count": 23,
   "metadata": {},
   "outputs": [
    {
     "data": {
      "text/plain": [
       "array([[619, 'France', 0, ..., 1, 1, 101348.88],\n",
       "       [608, 'Spain', 0, ..., 0, 1, 112542.58],\n",
       "       [502, 'France', 0, ..., 1, 0, 113931.57],\n",
       "       ...,\n",
       "       [709, 'France', 0, ..., 0, 1, 42085.58],\n",
       "       [772, 'Germany', 1, ..., 1, 0, 92888.52],\n",
       "       [792, 'France', 0, ..., 1, 0, 38190.78]], dtype=object)"
      ]
     },
     "execution_count": 23,
     "metadata": {},
     "output_type": "execute_result"
    }
   ],
   "source": [
    "X"
   ]
  },
  {
   "cell_type": "code",
   "execution_count": 24,
   "metadata": {},
   "outputs": [],
   "source": [
    "ct = ColumnTransformer([('State', OneHotEncoder(), [1])], remainder = 'passthrough')\n",
    "X = ct.fit_transform(X)"
   ]
  },
  {
   "cell_type": "code",
   "execution_count": 25,
   "metadata": {},
   "outputs": [],
   "source": [
    "X=X[:,1:]"
   ]
  },
  {
   "cell_type": "code",
   "execution_count": 27,
   "metadata": {},
   "outputs": [],
   "source": [
    "from sklearn.model_selection import train_test_split\n",
    "X_train,X_test,y_train,y_test=train_test_split(X,y,test_size=0.2,random_state=0)"
   ]
  },
  {
   "cell_type": "code",
   "execution_count": 28,
   "metadata": {},
   "outputs": [],
   "source": [
    "from sklearn.preprocessing import StandardScaler\n",
    "sc = StandardScaler()\n",
    "X_train = sc.fit_transform(X_train)\n",
    "X_test = sc.transform(X_test)"
   ]
  },
  {
   "cell_type": "code",
   "execution_count": 30,
   "metadata": {},
   "outputs": [],
   "source": [
    "import keras\n",
    "from  keras.models import Sequential\n",
    "from keras.layers import Dense"
   ]
  },
  {
   "cell_type": "code",
   "execution_count": 33,
   "metadata": {},
   "outputs": [
    {
     "name": "stderr",
     "output_type": "stream",
     "text": [
      "C:\\Users\\gupta\\anaconda3\\lib\\site-packages\\ipykernel_launcher.py:2: UserWarning: Update your `Dense` call to the Keras 2 API: `Dense(activation=\"relu\", input_dim=11, units=6, kernel_initializer=\"uniform\")`\n",
      "  \n",
      "C:\\Users\\gupta\\anaconda3\\lib\\site-packages\\ipykernel_launcher.py:3: UserWarning: Update your `Dense` call to the Keras 2 API: `Dense(activation=\"relu\", units=6, kernel_initializer=\"uniform\")`\n",
      "  This is separate from the ipykernel package so we can avoid doing imports until\n",
      "C:\\Users\\gupta\\anaconda3\\lib\\site-packages\\ipykernel_launcher.py:4: UserWarning: Update your `Dense` call to the Keras 2 API: `Dense(activation=\"sigmoid\", units=1, kernel_initializer=\"uniform\")`\n",
      "  after removing the cwd from sys.path.\n"
     ]
    },
    {
     "name": "stdout",
     "output_type": "stream",
     "text": [
      "WARNING:tensorflow:From C:\\Users\\gupta\\anaconda3\\lib\\site-packages\\tensorflow\\python\\ops\\nn_impl.py:180: add_dispatch_support.<locals>.wrapper (from tensorflow.python.ops.array_ops) is deprecated and will be removed in a future version.\n",
      "Instructions for updating:\n",
      "Use tf.where in 2.0, which has the same broadcast rule as np.where\n"
     ]
    }
   ],
   "source": [
    "classifier = Sequential()\n",
    "classifier.add(Dense(output_dim=6 ,init ='uniform' ,activation='relu' ,input_dim =11))\n",
    "classifier.add(Dense(output_dim=6 ,init ='uniform' ,activation='relu'))\n",
    "classifier.add(Dense(output_dim=1 ,init ='uniform' ,activation='sigmoid'))\n",
    "classifier.compile(optimizer='adam' ,loss='binary_crossentropy' ,metrics =['accuracy'])"
   ]
  },
  {
   "cell_type": "code",
   "execution_count": 34,
   "metadata": {},
   "outputs": [
    {
     "name": "stderr",
     "output_type": "stream",
     "text": [
      "C:\\Users\\gupta\\anaconda3\\lib\\site-packages\\ipykernel_launcher.py:1: UserWarning: The `nb_epoch` argument in `fit` has been renamed `epochs`.\n",
      "  \"\"\"Entry point for launching an IPython kernel.\n"
     ]
    },
    {
     "name": "stdout",
     "output_type": "stream",
     "text": [
      "WARNING:tensorflow:From C:\\Users\\gupta\\anaconda3\\lib\\site-packages\\keras\\backend\\tensorflow_backend.py:422: The name tf.global_variables is deprecated. Please use tf.compat.v1.global_variables instead.\n",
      "\n",
      "Epoch 1/100\n",
      "8000/8000 [==============================] - ETA: 0s - loss: 0.4904 - accuracy: 0.79 - 3s 403us/step - loss: 0.4895 - accuracy: 0.7958\n",
      "Epoch 2/100\n",
      "8000/8000 [==============================] - 3s 366us/step - loss: 0.4285 - accuracy: 0.7960\n",
      "Epoch 3/100\n",
      "8000/8000 [==============================] - 3s 355us/step - loss: 0.4223 - accuracy: 0.7960\n",
      "Epoch 4/100\n",
      "8000/8000 [==============================] - 3s 347us/step - loss: 0.4183 - accuracy: 0.8201\n",
      "Epoch 5/100\n",
      "8000/8000 [==============================] - 2s 255us/step - loss: 0.4159 - accuracy: 0.8275\n",
      "Epoch 6/100\n",
      "8000/8000 [==============================] - 2s 260us/step - loss: 0.4140 - accuracy: 0.8303\n",
      "Epoch 7/100\n",
      "8000/8000 [==============================] - 2s 277us/step - loss: 0.4128 - accuracy: 0.8315\n",
      "Epoch 8/100\n",
      "8000/8000 [==============================] - 2s 267us/step - loss: 0.4117 - accuracy: 0.8324\n",
      "Epoch 9/100\n",
      "8000/8000 [==============================] - 2s 256us/step - loss: 0.4109 - accuracy: 0.8336\n",
      "Epoch 10/100\n",
      "8000/8000 [==============================] - 2s 250us/step - loss: 0.4098 - accuracy: 0.8342\n",
      "Epoch 11/100\n",
      "8000/8000 [==============================] - 2s 261us/step - loss: 0.4092 - accuracy: 0.8350\n",
      "Epoch 12/100\n",
      "8000/8000 [==============================] - 2s 266us/step - loss: 0.4086 - accuracy: 0.8347\n",
      "Epoch 13/100\n",
      "8000/8000 [==============================] - 2s 262us/step - loss: 0.4081 - accuracy: 0.8339\n",
      "Epoch 14/100\n",
      "8000/8000 [==============================] - 2s 262us/step - loss: 0.4070 - accuracy: 0.8353\n",
      "Epoch 15/100\n",
      "8000/8000 [==============================] - 2s 274us/step - loss: 0.4075 - accuracy: 0.8334\n",
      "Epoch 16/100\n",
      "8000/8000 [==============================] - 2s 270us/step - loss: 0.4067 - accuracy: 0.8344\n",
      "Epoch 17/100\n",
      "8000/8000 [==============================] - 2s 275us/step - loss: 0.4059 - accuracy: 0.8345\n",
      "Epoch 18/100\n",
      "8000/8000 [==============================] - 2s 297us/step - loss: 0.4059 - accuracy: 0.8355\n",
      "Epoch 19/100\n",
      "8000/8000 [==============================] - 2s 279us/step - loss: 0.4058 - accuracy: 0.8349\n",
      "Epoch 20/100\n",
      "8000/8000 [==============================] - 2s 282us/step - loss: 0.4053 - accuracy: 0.8344\n",
      "Epoch 21/100\n",
      "8000/8000 [==============================] - 2s 281us/step - loss: 0.4052 - accuracy: 0.8346\n",
      "Epoch 22/100\n",
      "8000/8000 [==============================] - 2s 283us/step - loss: 0.4053 - accuracy: 0.8350\n",
      "Epoch 23/100\n",
      "8000/8000 [==============================] - 2s 274us/step - loss: 0.4045 - accuracy: 0.8340\n",
      "Epoch 24/100\n",
      "8000/8000 [==============================] - 2s 280us/step - loss: 0.4045 - accuracy: 0.8349\n",
      "Epoch 25/100\n",
      "8000/8000 [==============================] - 2s 288us/step - loss: 0.4042 - accuracy: 0.8349\n",
      "Epoch 26/100\n",
      "8000/8000 [==============================] - 2s 275us/step - loss: 0.4039 - accuracy: 0.8340\n",
      "Epoch 27/100\n",
      "8000/8000 [==============================] - 2s 274us/step - loss: 0.4039 - accuracy: 0.8345\n",
      "Epoch 28/100\n",
      "8000/8000 [==============================] - 2s 274us/step - loss: 0.4037 - accuracy: 0.8342\n",
      "Epoch 29/100\n",
      "8000/8000 [==============================] - 2s 271us/step - loss: 0.4035 - accuracy: 0.8347\n",
      "Epoch 30/100\n",
      "8000/8000 [==============================] - 2s 273us/step - loss: 0.4033 - accuracy: 0.8346\n",
      "Epoch 31/100\n",
      "8000/8000 [==============================] - 2s 271us/step - loss: 0.4031 - accuracy: 0.8346\n",
      "Epoch 32/100\n",
      "8000/8000 [==============================] - 2s 276us/step - loss: 0.4032 - accuracy: 0.8351\n",
      "Epoch 33/100\n",
      "8000/8000 [==============================] - 2s 272us/step - loss: 0.4030 - accuracy: 0.8349\n",
      "Epoch 34/100\n",
      "8000/8000 [==============================] - 2s 279us/step - loss: 0.4029 - accuracy: 0.8338\n",
      "Epoch 35/100\n",
      "8000/8000 [==============================] - 2s 271us/step - loss: 0.4021 - accuracy: 0.8350\n",
      "Epoch 36/100\n",
      "8000/8000 [==============================] - 2s 270us/step - loss: 0.4018 - accuracy: 0.8366\n",
      "Epoch 37/100\n",
      "8000/8000 [==============================] - 2s 288us/step - loss: 0.4022 - accuracy: 0.8346\n",
      "Epoch 38/100\n",
      "8000/8000 [==============================] - 2s 297us/step - loss: 0.4012 - accuracy: 0.8345\n",
      "Epoch 39/100\n",
      "8000/8000 [==============================] - 3s 315us/step - loss: 0.4008 - accuracy: 0.8342\n",
      "Epoch 40/100\n",
      "8000/8000 [==============================] - 3s 317us/step - loss: 0.4003 - accuracy: 0.8347\n",
      "Epoch 41/100\n",
      "8000/8000 [==============================] - 2s 293us/step - loss: 0.4000 - accuracy: 0.8354\n",
      "Epoch 42/100\n",
      "8000/8000 [==============================] - 2s 287us/step - loss: 0.3996 - accuracy: 0.8361\n",
      "Epoch 43/100\n",
      "8000/8000 [==============================] - 2s 274us/step - loss: 0.3990 - accuracy: 0.8363\n",
      "Epoch 44/100\n",
      "8000/8000 [==============================] - 2s 281us/step - loss: 0.3989 - accuracy: 0.8350\n",
      "Epoch 45/100\n",
      "8000/8000 [==============================] - 2s 272us/step - loss: 0.3986 - accuracy: 0.8357\n",
      "Epoch 46/100\n",
      "8000/8000 [==============================] - 2s 273us/step - loss: 0.3972 - accuracy: 0.8359\n",
      "Epoch 47/100\n",
      "8000/8000 [==============================] - 2s 271us/step - loss: 0.3979 - accuracy: 0.8361\n",
      "Epoch 48/100\n",
      "8000/8000 [==============================] - 2s 268us/step - loss: 0.3970 - accuracy: 0.8351\n",
      "Epoch 49/100\n",
      "8000/8000 [==============================] - 2s 280us/step - loss: 0.3972 - accuracy: 0.8356\n",
      "Epoch 50/100\n",
      "8000/8000 [==============================] - 2s 282us/step - loss: 0.3969 - accuracy: 0.8338\n",
      "Epoch 51/100\n",
      "8000/8000 [==============================] - 2s 289us/step - loss: 0.3968 - accuracy: 0.8349\n",
      "Epoch 52/100\n",
      "8000/8000 [==============================] - 2s 290us/step - loss: 0.3964 - accuracy: 0.8361\n",
      "Epoch 53/100\n",
      "8000/8000 [==============================] - 2s 293us/step - loss: 0.3965 - accuracy: 0.8365\n",
      "Epoch 54/100\n",
      "8000/8000 [==============================] - 2s 291us/step - loss: 0.3963 - accuracy: 0.8340\n",
      "Epoch 55/100\n",
      "8000/8000 [==============================] - 2s 283us/step - loss: 0.3963 - accuracy: 0.8359\n",
      "Epoch 56/100\n",
      "8000/8000 [==============================] - 2s 255us/step - loss: 0.3959 - accuracy: 0.8361\n",
      "Epoch 57/100\n",
      "8000/8000 [==============================] - 2s 251us/step - loss: 0.3959 - accuracy: 0.8345\n",
      "Epoch 58/100\n",
      "8000/8000 [==============================] - 2s 300us/step - loss: 0.3956 - accuracy: 0.8340\n",
      "Epoch 59/100\n",
      "8000/8000 [==============================] - 3s 357us/step - loss: 0.3953 - accuracy: 0.8359\n",
      "Epoch 60/100\n",
      "8000/8000 [==============================] - 2s 296us/step - loss: 0.3950 - accuracy: 0.8365\n",
      "Epoch 61/100\n",
      "8000/8000 [==============================] - 2s 257us/step - loss: 0.3957 - accuracy: 0.8356\n",
      "Epoch 62/100\n",
      "8000/8000 [==============================] - 2s 263us/step - loss: 0.3954 - accuracy: 0.8369\n",
      "Epoch 63/100\n",
      "8000/8000 [==============================] - 2s 269us/step - loss: 0.3950 - accuracy: 0.8370\n",
      "Epoch 64/100\n",
      "8000/8000 [==============================] - 2s 262us/step - loss: 0.3951 - accuracy: 0.8353\n",
      "Epoch 65/100\n",
      "8000/8000 [==============================] - 2s 231us/step - loss: 0.3952 - accuracy: 0.8342\n",
      "Epoch 66/100\n",
      "8000/8000 [==============================] - 2s 243us/step - loss: 0.3950 - accuracy: 0.8357\n",
      "Epoch 67/100\n",
      "8000/8000 [==============================] - 2s 260us/step - loss: 0.3951 - accuracy: 0.8342\n",
      "Epoch 68/100\n",
      "8000/8000 [==============================] - ETA: 0s - loss: 0.3958 - accuracy: 0.83 - 2s 234us/step - loss: 0.3955 - accuracy: 0.8351\n",
      "Epoch 69/100\n",
      "8000/8000 [==============================] - 2s 252us/step - loss: 0.3948 - accuracy: 0.8349\n",
      "Epoch 70/100\n",
      "8000/8000 [==============================] - 3s 372us/step - loss: 0.3949 - accuracy: 0.8360\n",
      "Epoch 71/100\n",
      "8000/8000 [==============================] - 3s 417us/step - loss: 0.3944 - accuracy: 0.8382\n",
      "Epoch 72/100\n",
      "8000/8000 [==============================] - 3s 343us/step - loss: 0.3955 - accuracy: 0.8369\n",
      "Epoch 73/100\n",
      "8000/8000 [==============================] - 2s 311us/step - loss: 0.3945 - accuracy: 0.8357\n",
      "Epoch 74/100\n",
      "8000/8000 [==============================] - 2s 307us/step - loss: 0.3942 - accuracy: 0.8363\n",
      "Epoch 75/100\n"
     ]
    },
    {
     "name": "stdout",
     "output_type": "stream",
     "text": [
      "8000/8000 [==============================] - 2s 280us/step - loss: 0.3946 - accuracy: 0.8360\n",
      "Epoch 76/100\n",
      "8000/8000 [==============================] - 2s 282us/step - loss: 0.3946 - accuracy: 0.8353\n",
      "Epoch 77/100\n",
      "8000/8000 [==============================] - 2s 286us/step - loss: 0.3948 - accuracy: 0.8357\n",
      "Epoch 78/100\n",
      "8000/8000 [==============================] - 3s 313us/step - loss: 0.3952 - accuracy: 0.8370\n",
      "Epoch 79/100\n",
      "8000/8000 [==============================] - 3s 314us/step - loss: 0.3946 - accuracy: 0.8363\n",
      "Epoch 80/100\n",
      "8000/8000 [==============================] - 2s 279us/step - loss: 0.3940 - accuracy: 0.8360\n",
      "Epoch 81/100\n",
      "8000/8000 [==============================] - 2s 266us/step - loss: 0.3941 - accuracy: 0.8365\n",
      "Epoch 82/100\n",
      "8000/8000 [==============================] - 2s 268us/step - loss: 0.3942 - accuracy: 0.8354\n",
      "Epoch 83/100\n",
      "8000/8000 [==============================] - 2s 273us/step - loss: 0.3938 - accuracy: 0.8371\n",
      "Epoch 84/100\n",
      "8000/8000 [==============================] - 2s 266us/step - loss: 0.3943 - accuracy: 0.8356\n",
      "Epoch 85/100\n",
      "8000/8000 [==============================] - 2s 276us/step - loss: 0.3942 - accuracy: 0.8360\n",
      "Epoch 86/100\n",
      "8000/8000 [==============================] - 2s 252us/step - loss: 0.3942 - accuracy: 0.8365\n",
      "Epoch 87/100\n",
      "8000/8000 [==============================] - 2s 252us/step - loss: 0.3942 - accuracy: 0.8367\n",
      "Epoch 88/100\n",
      "8000/8000 [==============================] - 2s 256us/step - loss: 0.3941 - accuracy: 0.8353\n",
      "Epoch 89/100\n",
      "8000/8000 [==============================] - 2s 252us/step - loss: 0.3941 - accuracy: 0.8365\n",
      "Epoch 90/100\n",
      "8000/8000 [==============================] - 2s 247us/step - loss: 0.3944 - accuracy: 0.8367\n",
      "Epoch 91/100\n",
      "8000/8000 [==============================] - 2s 249us/step - loss: 0.3940 - accuracy: 0.8349\n",
      "Epoch 92/100\n",
      "8000/8000 [==============================] - 2s 263us/step - loss: 0.3938 - accuracy: 0.8375\n",
      "Epoch 93/100\n",
      "8000/8000 [==============================] - 2s 249us/step - loss: 0.3934 - accuracy: 0.8369\n",
      "Epoch 94/100\n",
      "8000/8000 [==============================] - 2s 242us/step - loss: 0.3943 - accuracy: 0.8369\n",
      "Epoch 95/100\n",
      "8000/8000 [==============================] - 2s 260us/step - loss: 0.3943 - accuracy: 0.8365\n",
      "Epoch 96/100\n",
      "8000/8000 [==============================] - 2s 237us/step - loss: 0.3935 - accuracy: 0.8359\n",
      "Epoch 97/100\n",
      "8000/8000 [==============================] - 2s 237us/step - loss: 0.3937 - accuracy: 0.8361\n",
      "Epoch 98/100\n",
      "8000/8000 [==============================] - 2s 239us/step - loss: 0.3942 - accuracy: 0.8353\n",
      "Epoch 99/100\n",
      "8000/8000 [==============================] - 2s 241us/step - loss: 0.3940 - accuracy: 0.8354\n",
      "Epoch 100/100\n",
      "8000/8000 [==============================] - 2s 234us/step - loss: 0.3933 - accuracy: 0.8349\n"
     ]
    },
    {
     "data": {
      "text/plain": [
       "<keras.callbacks.callbacks.History at 0x18dab55a888>"
      ]
     },
     "execution_count": 34,
     "metadata": {},
     "output_type": "execute_result"
    }
   ],
   "source": [
    "classifier.fit(X_train ,y_train , batch_size=10 , nb_epoch=100)"
   ]
  },
  {
   "cell_type": "code",
   "execution_count": 36,
   "metadata": {},
   "outputs": [
    {
     "data": {
      "text/plain": [
       "array([[0.16455957],\n",
       "       [0.36268693],\n",
       "       [0.12733111],\n",
       "       ...,\n",
       "       [0.17631075],\n",
       "       [0.10897565],\n",
       "       [0.12580651]], dtype=float32)"
      ]
     },
     "execution_count": 36,
     "metadata": {},
     "output_type": "execute_result"
    }
   ],
   "source": [
    "y_pred = classifier.predict(X_test)\n",
    "y_pred"
   ]
  },
  {
   "cell_type": "code",
   "execution_count": 37,
   "metadata": {},
   "outputs": [],
   "source": [
    "y_pred=(y_pred > 0.5)"
   ]
  },
  {
   "cell_type": "code",
   "execution_count": 38,
   "metadata": {},
   "outputs": [
    {
     "data": {
      "text/plain": [
       "array([[False],\n",
       "       [False],\n",
       "       [False],\n",
       "       ...,\n",
       "       [False],\n",
       "       [False],\n",
       "       [False]])"
      ]
     },
     "execution_count": 38,
     "metadata": {},
     "output_type": "execute_result"
    }
   ],
   "source": [
    "y_pred"
   ]
  },
  {
   "cell_type": "code",
   "execution_count": 40,
   "metadata": {},
   "outputs": [
    {
     "data": {
      "text/plain": [
       "array([[1550,   45],\n",
       "       [ 263,  142]], dtype=int64)"
      ]
     },
     "execution_count": 40,
     "metadata": {},
     "output_type": "execute_result"
    }
   ],
   "source": [
    "from sklearn.metrics import confusion_matrix\n",
    "\n",
    "cm=confusion_matrix(y_test,y_pred)\n",
    "cm"
   ]
  },
  {
   "cell_type": "code",
   "execution_count": null,
   "metadata": {},
   "outputs": [],
   "source": []
  },
  {
   "cell_type": "code",
   "execution_count": null,
   "metadata": {},
   "outputs": [],
   "source": []
  }
 ],
 "metadata": {
  "kernelspec": {
   "display_name": "Python 3",
   "language": "python",
   "name": "python3"
  },
  "language_info": {
   "codemirror_mode": {
    "name": "ipython",
    "version": 3
   },
   "file_extension": ".py",
   "mimetype": "text/x-python",
   "name": "python",
   "nbconvert_exporter": "python",
   "pygments_lexer": "ipython3",
   "version": "3.7.6"
  }
 },
 "nbformat": 4,
 "nbformat_minor": 4
}
